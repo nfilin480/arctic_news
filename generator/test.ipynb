{
 "cells": [
  {
   "cell_type": "code",
   "execution_count": 2,
   "metadata": {},
   "outputs": [
    {
     "name": "stderr",
     "output_type": "stream",
     "text": [
      "e:\\Conda\\envs\\news_summ\\Lib\\site-packages\\tqdm\\auto.py:21: TqdmWarning: IProgress not found. Please update jupyter and ipywidgets. See https://ipywidgets.readthedocs.io/en/stable/user_install.html\n",
      "  from .autonotebook import tqdm as notebook_tqdm\n"
     ]
    }
   ],
   "source": [
    "import math\n",
    "from collections import Counter, defaultdict\n",
    "from typing import Any\n",
    "import pandas as pd\n",
    "#from tqdm import tqdm\n",
    "#from textRank import TextRankSummarizer\n",
    "from sklearn.feature_extraction.text import TfidfVectorizer\n",
    "import sys\n",
    "from sklearn.cluster import KMeans\n",
    "import numpy as np\n",
    "\n",
    "# caution: path[0] is reserved for script path (or '' in REPL)\n",
    "sys.path.append('E:\\\\IT_projects\\\\arctic_news\\\\preprocessor\\\\')\n",
    "#sys.path.append('E:\\\\IT_projects\\\\arctic_news\\\\datasets')\n",
    "from syntax_analyzer import SyntaxAnalyzer"
   ]
  },
  {
   "cell_type": "code",
   "execution_count": 4,
   "metadata": {},
   "outputs": [
    {
     "name": "stderr",
     "output_type": "stream",
     "text": [
      "2023-11-29 12:02:13 INFO: Checking for updates to resources.json in case models have been updated.  Note: this behavior can be turned off with download_method=None or download_method=DownloadMethod.REUSE_RESOURCES\n",
      "Downloading https://raw.githubusercontent.com/stanfordnlp/stanza-resources/main/resources_1.6.0.json: 367kB [00:00, 3.50MB/s]                    \n",
      "2023-11-29 12:02:15 INFO: Loading these models for language: ru (Russian):\n",
      "==================================\n",
      "| Processor | Package            |\n",
      "----------------------------------\n",
      "| tokenize  | syntagrus          |\n",
      "| pos       | syntagrus_charlm   |\n",
      "| lemma     | syntagrus_nocharlm |\n",
      "| depparse  | syntagrus_charlm   |\n",
      "==================================\n",
      "\n",
      "2023-11-29 12:02:15 INFO: Using device: cpu\n",
      "2023-11-29 12:02:15 INFO: Loading: tokenize\n",
      "2023-11-29 12:02:15 INFO: Loading: pos\n",
      "2023-11-29 12:02:15 INFO: Loading: lemma\n",
      "2023-11-29 12:02:15 INFO: Loading: depparse\n",
      "2023-11-29 12:02:16 INFO: Done loading processors!\n"
     ]
    }
   ],
   "source": [
    "text = pd.read_csv('E:\\\\IT_projects\\\\arctic_news\\\\datasets\\\\xlsum500.csv')\n",
    "\n",
    "analyzer = SyntaxAnalyzer()\n",
    "doc = analyzer(text['text'][0])\n",
    "original_sentences = analyzer.get_sentences(doc, normalize=False, upos=[])\n",
    "sentences = analyzer.get_sentences(doc, normalize=True, upos=['NOUN', 'VERB', 'AUX', 'ADJ', 'X'])"
   ]
  },
  {
   "cell_type": "code",
   "execution_count": 27,
   "metadata": {},
   "outputs": [
    {
     "data": {
      "text/plain": [
       "30"
      ]
     },
     "execution_count": 27,
     "metadata": {},
     "output_type": "execute_result"
    }
   ],
   "source": [
    "sentences = [i for i in sentences if len(i.split(' ')) > 10]\n",
    "len(sentences)"
   ]
  },
  {
   "cell_type": "code",
   "execution_count": 31,
   "metadata": {},
   "outputs": [
    {
     "data": {
      "text/plain": [
       "{'aksmdk.', 'ash', 'ghbvtn'}"
      ]
     },
     "execution_count": 31,
     "metadata": {},
     "output_type": "execute_result"
    }
   ],
   "source": [
    "txt = 'ghbvtn ash aksmdk.'\n",
    "set(txt.split(' '))"
   ]
  },
  {
   "cell_type": "code",
   "execution_count": 29,
   "metadata": {},
   "outputs": [
    {
     "name": "stdout",
     "output_type": "stream",
     "text": [
      "Численность занятых в экономике , по подсчетам того же министерства , на конец июня составила 4463,8 тыс. человек . ноябрь прошлый год предлагать ввести штраф месяц течение год уклоняться уплата налог\n",
      "Значит , примерно 300 тысяч женщин исключены из общественного труда , заняты личным . мигрант выход объявление слово требоваться примета белорусский город вызывать изумление иностранец\n",
      "\" Может быть , и полмиллиона , может быть , и миллион . открытый политика направить привлечение трудовой мигрант показать опыт бывать успешный заметить\n"
     ]
    }
   ],
   "source": [
    "# Создание объекта TfidfVectorizer\n",
    "tfidf_vectorizer = TfidfVectorizer()\n",
    "\n",
    "# Применение TF-IDF к текстовым данным\n",
    "tfidf_matrix = tfidf_vectorizer.fit_transform(sentences)\n",
    "#print(type(tfidf_matrix))\n",
    "\n",
    "scores = tfidf_matrix.toarray()\n",
    "feature_names = tfidf_vectorizer.get_feature_names_out()\n",
    "#print(feature_names)\n",
    "\n",
    "scores_sentences = []\n",
    "#scores_sentences\n",
    "\n",
    "for score in scores:\n",
    "    s = 1\n",
    "    for word_scores in score:\n",
    "        if word_scores > 0.0:\n",
    "            s *= word_scores\n",
    "    scores_sentences.append(s)\n",
    "\n",
    "sort = sorted(scores_sentences, reverse=True)\n",
    "\n",
    "for i in range(len(scores_sentences)):\n",
    "    if scores_sentences[i] in sort[:3]:\n",
    "        print(original_sentences[i], sentences[i])\n",
    "#for i in tfidf_matrix[0][0]:\n",
    "#    print(feature_names[i[1]])"
   ]
  },
  {
   "cell_type": "code",
   "execution_count": 26,
   "metadata": {},
   "outputs": [
    {
     "data": {
      "text/plain": [
       "'Президент Белоруссии Александр Лукашенко поручил до конца года разработать систему мер по борьбе с тунеядством, но перспективы такой борьбы неоднозначно оцениваются и специалистами, и рядовыми гражданами.'"
      ]
     },
     "execution_count": 26,
     "metadata": {},
     "output_type": "execute_result"
    }
   ],
   "source": [
    "text['summary'][0]"
   ]
  }
 ],
 "metadata": {
  "kernelspec": {
   "display_name": "news_summ",
   "language": "python",
   "name": "python3"
  },
  "language_info": {
   "codemirror_mode": {
    "name": "ipython",
    "version": 3
   },
   "file_extension": ".py",
   "mimetype": "text/x-python",
   "name": "python",
   "nbconvert_exporter": "python",
   "pygments_lexer": "ipython3",
   "version": "3.11.5"
  }
 },
 "nbformat": 4,
 "nbformat_minor": 2
}
