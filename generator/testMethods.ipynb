{
 "cells": [
  {
   "cell_type": "code",
   "execution_count": 1,
   "metadata": {},
   "outputs": [
    {
     "name": "stderr",
     "output_type": "stream",
     "text": [
      "e:\\Conda\\envs\\news_summ\\Lib\\site-packages\\tqdm\\auto.py:21: TqdmWarning: IProgress not found. Please update jupyter and ipywidgets. See https://ipywidgets.readthedocs.io/en/stable/user_install.html\n",
      "  from .autonotebook import tqdm as notebook_tqdm\n",
      "2023-11-28 15:27:04 INFO: Checking for updates to resources.json in case models have been updated.  Note: this behavior can be turned off with download_method=None or download_method=DownloadMethod.REUSE_RESOURCES\n",
      "Downloading https://raw.githubusercontent.com/stanfordnlp/stanza-resources/main/resources_1.6.0.json: 367kB [00:00, 3.50MB/s]                    \n",
      "2023-11-28 15:27:05 INFO: Loading these models for language: ru (Russian):\n",
      "==================================\n",
      "| Processor | Package            |\n",
      "----------------------------------\n",
      "| tokenize  | syntagrus          |\n",
      "| pos       | syntagrus_charlm   |\n",
      "| lemma     | syntagrus_nocharlm |\n",
      "| depparse  | syntagrus_charlm   |\n",
      "==================================\n",
      "\n",
      "2023-11-28 15:27:05 INFO: Using device: cpu\n",
      "2023-11-28 15:27:05 INFO: Loading: tokenize\n",
      "2023-11-28 15:27:06 INFO: Loading: pos\n",
      "2023-11-28 15:27:06 INFO: Loading: lemma\n",
      "2023-11-28 15:27:06 INFO: Loading: depparse\n",
      "2023-11-28 15:27:07 INFO: Done loading processors!\n"
     ]
    }
   ],
   "source": [
    "from textRank import TextRankSummarizer\n",
    "import sys\n",
    "sys.path.append('E:\\\\IT_projects\\\\arctic_news\\\\eval')\n",
    "from eval import Eval\n",
    "#from bart import Generator\n",
    "import pandas as pd\n"
   ]
  },
  {
   "cell_type": "markdown",
   "metadata": {},
   "source": [
    "TEST TextRank"
   ]
  },
  {
   "cell_type": "code",
   "execution_count": 2,
   "metadata": {},
   "outputs": [
    {
     "name": "stderr",
     "output_type": "stream",
     "text": [
      "2023-11-28 15:27:15 INFO: Checking for updates to resources.json in case models have been updated.  Note: this behavior can be turned off with download_method=None or download_method=DownloadMethod.REUSE_RESOURCES\n",
      "Downloading https://raw.githubusercontent.com/stanfordnlp/stanza-resources/main/resources_1.6.0.json: 367kB [00:00, 3.31MB/s]                    \n",
      "2023-11-28 15:27:17 INFO: Loading these models for language: ru (Russian):\n",
      "==================================\n",
      "| Processor | Package            |\n",
      "----------------------------------\n",
      "| tokenize  | syntagrus          |\n",
      "| pos       | syntagrus_charlm   |\n",
      "| lemma     | syntagrus_nocharlm |\n",
      "| depparse  | syntagrus_charlm   |\n",
      "==================================\n",
      "\n",
      "2023-11-28 15:27:17 INFO: Using device: cpu\n",
      "2023-11-28 15:27:17 INFO: Loading: tokenize\n",
      "2023-11-28 15:27:17 INFO: Loading: pos\n",
      "2023-11-28 15:27:17 INFO: Loading: lemma\n",
      "2023-11-28 15:27:17 INFO: Loading: depparse\n",
      "2023-11-28 15:27:18 INFO: Done loading processors!\n"
     ]
    },
    {
     "name": "stdout",
     "output_type": "stream",
     "text": [
      "71\n"
     ]
    }
   ],
   "source": [
    "metrics = Eval()\n",
    "data = pd.read_csv('E:\\\\IT_projects\\\\arctic_news\\\\datasets\\\\xlsum500.csv')\n",
    "text_rank = TextRankSummarizer(verbose=True)\n",
    "reference = data['summary'][0]\n",
    "summary = text_rank(data['text'][0], 3)\n",
    "print()\n",
    "print(\"Итоговый реферат TextRank: {}\".format(summary))\n",
    "\n",
    "rouge_score = metrics.rouge_scores(reference, summary)\n",
    "print(f\"Метрики TextRank(rouge_score): {rouge_score}\")\n",
    "\n",
    "bert_score = metrics.bert_scores(reference, summary)\n",
    "print(f\"Метрики TextRank(rouge_score): {bert_score}\")"
   ]
  },
  {
   "cell_type": "code",
   "execution_count": 2,
   "metadata": {},
   "outputs": [
    {
     "name": "stderr",
     "output_type": "stream",
     "text": [
      "model.safetensors: 100%|██████████| 3.47G/3.47G [05:00<00:00, 11.5MB/s]\n",
      "e:\\Conda\\envs\\news_summ\\Lib\\site-packages\\huggingface_hub\\file_download.py:147: UserWarning: `huggingface_hub` cache-system uses symlinks by default to efficiently store duplicated files but your machine does not support them in C:\\Users\\sante\\.cache\\huggingface\\hub. Caching files will still work but in a degraded version that might require more space on your disk. This warning can be disabled by setting the `HF_HUB_DISABLE_SYMLINKS_WARNING` environment variable. For more details, see https://huggingface.co/docs/huggingface_hub/how-to-cache#limitations.\n",
      "To support symlinks on Windows, you either need to activate Developer Mode or to run Python as an administrator. In order to see activate developer mode, see this article: https://docs.microsoft.com/en-us/windows/apps/get-started/enable-your-device-for-development\n",
      "  warnings.warn(message)\n",
      "2023-11-28 14:15:59 INFO: Checking for updates to resources.json in case models have been updated.  Note: this behavior can be turned off with download_method=None or download_method=DownloadMethod.REUSE_RESOURCES\n",
      "Downloading https://raw.githubusercontent.com/stanfordnlp/stanza-resources/main/resources_1.6.0.json: 367kB [00:00, 5.64MB/s]                    \n",
      "2023-11-28 14:16:02 INFO: Loading these models for language: ru (Russian):\n",
      "==================================\n",
      "| Processor | Package            |\n",
      "----------------------------------\n",
      "| tokenize  | syntagrus          |\n",
      "| pos       | syntagrus_charlm   |\n",
      "| lemma     | syntagrus_nocharlm |\n",
      "| depparse  | syntagrus_charlm   |\n",
      "==================================\n",
      "\n",
      "2023-11-28 14:16:02 INFO: Using device: cpu\n",
      "2023-11-28 14:16:02 INFO: Loading: tokenize\n",
      "2023-11-28 14:16:03 INFO: Loading: pos\n",
      "2023-11-28 14:16:04 INFO: Loading: lemma\n",
      "2023-11-28 14:16:04 INFO: Loading: depparse\n",
      "2023-11-28 14:16:04 INFO: Done loading processors!\n"
     ]
    },
    {
     "name": "stdout",
     "output_type": "stream",
     "text": [
      "71\n"
     ]
    }
   ],
   "source": [
    "metrics = Eval()\n",
    "bart = Generator()\n",
    "\n",
    "data = pd.read_csv('E:\\\\IT_projects\\\\arctic_news\\\\datasets\\\\xlsum500.csv')\n",
    "\n",
    "text_rank = TextRankSummarizer(verbose=True)\n",
    "summary = text_rank(data['text'][0], 3)\n",
    "summary_bart = bart.generate(data['text'][0])\n",
    "print()\n",
    "print(\"Итоговый реферат TextRank: {}\".format(summary))\n",
    "print()\n",
    "print(f\"Итоговый реферат Bart: {summary_bart}\")\n",
    "print()\n",
    "\n",
    "print(f\"Правильный реферат: {data['summary'][0]}\")\n",
    "\n",
    "print(f\"Метрики TextRank: {metrics(data['summary'][0], summary)}\")\n",
    "print(f\"Метрики Bart: {metrics(data['summary'][0], summary_bart)}\")"
   ]
  },
  {
   "cell_type": "code",
   "execution_count": 3,
   "metadata": {},
   "outputs": [
    {
     "name": "stdout",
     "output_type": "stream",
     "text": [
      "71\n",
      "В Белоруссии многие работают на себя, а не на государство \"Пора прекращать это иждивенчество!\n",
      "93/93400 тысяч должны быть вовлечены именем революции в работу!\n",
      "58/58Бездельников не должно быть в стране!\n",
      "37/37До 1 января принять меры, чтобы все работали, заставить всех работать!\" - заявил Александр Лукашенко на совещании по вопросам занятости и миграции, прошедшем в минувший понедельник.\n",
      "140/181"
     ]
    },
    {
     "ename": "KeyboardInterrupt",
     "evalue": "",
     "output_type": "error",
     "traceback": [
      "\u001b[1;31m---------------------------------------------------------------------------\u001b[0m",
      "\u001b[1;31mKeyboardInterrupt\u001b[0m                         Traceback (most recent call last)",
      "\u001b[1;32mc:\\Users\\sante\\OneDrive\\Документы\\labs\\arctic_news\\arctic_news\\generator\\textRankTest.ipynb Cell 3\u001b[0m line \u001b[0;36m2\n\u001b[0;32m      <a href='vscode-notebook-cell:/c%3A/Users/sante/OneDrive/%D0%94%D0%BE%D0%BA%D1%83%D0%BC%D0%B5%D0%BD%D1%82%D1%8B/labs/arctic_news/arctic_news/generator/textRankTest.ipynb#W2sZmlsZQ%3D%3D?line=0'>1</a>\u001b[0m text_rank \u001b[39m=\u001b[39m textRank\u001b[39m.\u001b[39mTextRankSummarizer(verbose\u001b[39m=\u001b[39m\u001b[39mTrue\u001b[39;00m)\n\u001b[1;32m----> <a href='vscode-notebook-cell:/c%3A/Users/sante/OneDrive/%D0%94%D0%BE%D0%BA%D1%83%D0%BC%D0%B5%D0%BD%D1%82%D1%8B/labs/arctic_news/arctic_news/generator/textRankTest.ipynb#W2sZmlsZQ%3D%3D?line=1'>2</a>\u001b[0m summary \u001b[39m=\u001b[39m text_rank(d[\u001b[39m'\u001b[39;49m\u001b[39mtext\u001b[39;49m\u001b[39m'\u001b[39;49m][\u001b[39m0\u001b[39;49m], \u001b[39m3\u001b[39;49m)\n\u001b[0;32m      <a href='vscode-notebook-cell:/c%3A/Users/sante/OneDrive/%D0%94%D0%BE%D0%BA%D1%83%D0%BC%D0%B5%D0%BD%D1%82%D1%8B/labs/arctic_news/arctic_news/generator/textRankTest.ipynb#W2sZmlsZQ%3D%3D?line=2'>3</a>\u001b[0m \u001b[39mprint\u001b[39m()\n\u001b[0;32m      <a href='vscode-notebook-cell:/c%3A/Users/sante/OneDrive/%D0%94%D0%BE%D0%BA%D1%83%D0%BC%D0%B5%D0%BD%D1%82%D1%8B/labs/arctic_news/arctic_news/generator/textRankTest.ipynb#W2sZmlsZQ%3D%3D?line=3'>4</a>\u001b[0m \u001b[39mprint\u001b[39m(\u001b[39m\"\u001b[39m\u001b[39mИтоговый реферат: \u001b[39m\u001b[39m{}\u001b[39;00m\u001b[39m\"\u001b[39m\u001b[39m.\u001b[39mformat(summary))\n",
      "File \u001b[1;32mc:\\Users\\sante\\OneDrive\\Документы\\labs\\arctic_news\\arctic_news\\generator\\textRank.py:54\u001b[0m, in \u001b[0;36mTextRankSummarizer.__call__\u001b[1;34m(self, text, target_sentences_count)\u001b[0m\n\u001b[0;32m     52\u001b[0m original_sentences \u001b[39m=\u001b[39m [s\u001b[39m.\u001b[39mtext \u001b[39mfor\u001b[39;00m s \u001b[39min\u001b[39;00m razdel\u001b[39m.\u001b[39msentenize(text)]\n\u001b[0;32m     53\u001b[0m \u001b[39mprint\u001b[39m(\u001b[39mlen\u001b[39m(original_sentences))\n\u001b[1;32m---> 54\u001b[0m sentences \u001b[39m=\u001b[39m [\u001b[39mself\u001b[39m\u001b[39m.\u001b[39mpreprocessing_function(s) \u001b[39mfor\u001b[39;00m s \u001b[39min\u001b[39;00m original_sentences]\n\u001b[0;32m     56\u001b[0m graph \u001b[39m=\u001b[39m \u001b[39mself\u001b[39m\u001b[39m.\u001b[39m_create_graph(sentences)  \n\u001b[0;32m     57\u001b[0m graph \u001b[39m=\u001b[39m \u001b[39mself\u001b[39m\u001b[39m.\u001b[39m_apply_threshold(graph)\n",
      "File \u001b[1;32mc:\\Users\\sante\\OneDrive\\Документы\\labs\\arctic_news\\arctic_news\\generator\\textRank.py:54\u001b[0m, in \u001b[0;36m<listcomp>\u001b[1;34m(.0)\u001b[0m\n\u001b[0;32m     52\u001b[0m original_sentences \u001b[39m=\u001b[39m [s\u001b[39m.\u001b[39mtext \u001b[39mfor\u001b[39;00m s \u001b[39min\u001b[39;00m razdel\u001b[39m.\u001b[39msentenize(text)]\n\u001b[0;32m     53\u001b[0m \u001b[39mprint\u001b[39m(\u001b[39mlen\u001b[39m(original_sentences))\n\u001b[1;32m---> 54\u001b[0m sentences \u001b[39m=\u001b[39m [\u001b[39mself\u001b[39;49m\u001b[39m.\u001b[39;49mpreprocessing_function(s) \u001b[39mfor\u001b[39;00m s \u001b[39min\u001b[39;00m original_sentences]\n\u001b[0;32m     56\u001b[0m graph \u001b[39m=\u001b[39m \u001b[39mself\u001b[39m\u001b[39m.\u001b[39m_create_graph(sentences)  \n\u001b[0;32m     57\u001b[0m graph \u001b[39m=\u001b[39m \u001b[39mself\u001b[39m\u001b[39m.\u001b[39m_apply_threshold(graph)\n",
      "File \u001b[1;32mc:\\Users\\sante\\OneDrive\\Документы\\labs\\arctic_news\\arctic_news\\generator\\preprocessor\\normalize.py:26\u001b[0m, in \u001b[0;36mNormalize.normalize_data\u001b[1;34m(self, content)\u001b[0m\n\u001b[0;32m     24\u001b[0m i\u001b[39m+\u001b[39m\u001b[39m=\u001b[39m\u001b[39m1\u001b[39m\n\u001b[0;32m     25\u001b[0m \u001b[39mprint\u001b[39m(\u001b[39mf\u001b[39m\u001b[39m'\u001b[39m\u001b[39m\\r\u001b[39;00m\u001b[39m{\u001b[39;00mi\u001b[39m}\u001b[39;00m\u001b[39m/\u001b[39m\u001b[39m{\u001b[39;00m\u001b[39mlen\u001b[39m(content)\u001b[39m}\u001b[39;00m\u001b[39m'\u001b[39m, end\u001b[39m=\u001b[39m\u001b[39m'\u001b[39m\u001b[39m'\u001b[39m)\n\u001b[1;32m---> 26\u001b[0m data \u001b[39m=\u001b[39m \u001b[39mself\u001b[39;49m\u001b[39m.\u001b[39;49mnlp(item)\n\u001b[0;32m     27\u001b[0m tokens \u001b[39m=\u001b[39m []\n\u001b[0;32m     28\u001b[0m raw \u001b[39m=\u001b[39m \u001b[39mself\u001b[39m\u001b[39m.\u001b[39mnlp(item)\u001b[39m.\u001b[39msentences\n",
      "File \u001b[1;32me:\\Conda\\envs\\here\\lib\\site-packages\\stanza\\pipeline\\core.py:471\u001b[0m, in \u001b[0;36mPipeline.__call__\u001b[1;34m(self, doc, processors)\u001b[0m\n\u001b[0;32m    470\u001b[0m \u001b[39mdef\u001b[39;00m \u001b[39m__call__\u001b[39m(\u001b[39mself\u001b[39m, doc, processors\u001b[39m=\u001b[39m\u001b[39mNone\u001b[39;00m):\n\u001b[1;32m--> 471\u001b[0m     \u001b[39mreturn\u001b[39;00m \u001b[39mself\u001b[39;49m\u001b[39m.\u001b[39;49mprocess(doc, processors)\n",
      "File \u001b[1;32me:\\Conda\\envs\\here\\lib\\site-packages\\stanza\\pipeline\\core.py:422\u001b[0m, in \u001b[0;36mPipeline.process\u001b[1;34m(self, doc, processors)\u001b[0m\n\u001b[0;32m    420\u001b[0m     \u001b[39mif\u001b[39;00m \u001b[39mself\u001b[39m\u001b[39m.\u001b[39mprocessors\u001b[39m.\u001b[39mget(processor_name):\n\u001b[0;32m    421\u001b[0m         process \u001b[39m=\u001b[39m \u001b[39mself\u001b[39m\u001b[39m.\u001b[39mprocessors[processor_name]\u001b[39m.\u001b[39mbulk_process \u001b[39mif\u001b[39;00m bulk \u001b[39melse\u001b[39;00m \u001b[39mself\u001b[39m\u001b[39m.\u001b[39mprocessors[processor_name]\u001b[39m.\u001b[39mprocess\n\u001b[1;32m--> 422\u001b[0m         doc \u001b[39m=\u001b[39m process(doc)\n\u001b[0;32m    423\u001b[0m \u001b[39mreturn\u001b[39;00m doc\n",
      "File \u001b[1;32me:\\Conda\\envs\\here\\lib\\site-packages\\stanza\\pipeline\\depparse_processor.py:65\u001b[0m, in \u001b[0;36mDepparseProcessor.process\u001b[1;34m(self, document)\u001b[0m\n\u001b[0;32m     63\u001b[0m     preds \u001b[39m=\u001b[39m []\n\u001b[0;32m     64\u001b[0m     \u001b[39mfor\u001b[39;00m i, b \u001b[39min\u001b[39;00m \u001b[39menumerate\u001b[39m(batch):\n\u001b[1;32m---> 65\u001b[0m         preds \u001b[39m+\u001b[39m\u001b[39m=\u001b[39m \u001b[39mself\u001b[39;49m\u001b[39m.\u001b[39;49mtrainer\u001b[39m.\u001b[39;49mpredict(b)\n\u001b[0;32m     66\u001b[0m \u001b[39mif\u001b[39;00m batch\u001b[39m.\u001b[39mdata_orig_idx \u001b[39mis\u001b[39;00m \u001b[39mnot\u001b[39;00m \u001b[39mNone\u001b[39;00m:\n\u001b[0;32m     67\u001b[0m     preds \u001b[39m=\u001b[39m unsort(preds, batch\u001b[39m.\u001b[39mdata_orig_idx)\n",
      "File \u001b[1;32me:\\Conda\\envs\\here\\lib\\site-packages\\stanza\\models\\depparse\\trainer.py:70\u001b[0m, in \u001b[0;36mTrainer.predict\u001b[1;34m(self, batch, unsort)\u001b[0m\n\u001b[0;32m     68\u001b[0m \u001b[39mself\u001b[39m\u001b[39m.\u001b[39mmodel\u001b[39m.\u001b[39meval()\n\u001b[0;32m     69\u001b[0m batch_size \u001b[39m=\u001b[39m word\u001b[39m.\u001b[39msize(\u001b[39m0\u001b[39m)\n\u001b[1;32m---> 70\u001b[0m _, preds \u001b[39m=\u001b[39m \u001b[39mself\u001b[39;49m\u001b[39m.\u001b[39;49mmodel(word, word_mask, wordchars, wordchars_mask, upos, xpos, ufeats, pretrained, lemma, head, deprel, word_orig_idx, sentlens, wordlens, text)\n\u001b[0;32m     71\u001b[0m head_seqs \u001b[39m=\u001b[39m [chuliu_edmonds_one_root(adj[:l, :l])[\u001b[39m1\u001b[39m:] \u001b[39mfor\u001b[39;00m adj, l \u001b[39min\u001b[39;00m \u001b[39mzip\u001b[39m(preds[\u001b[39m0\u001b[39m], sentlens)] \u001b[39m# remove attachment for the root\u001b[39;00m\n\u001b[0;32m     72\u001b[0m deprel_seqs \u001b[39m=\u001b[39m [\u001b[39mself\u001b[39m\u001b[39m.\u001b[39mvocab[\u001b[39m'\u001b[39m\u001b[39mdeprel\u001b[39m\u001b[39m'\u001b[39m]\u001b[39m.\u001b[39munmap([preds[\u001b[39m1\u001b[39m][i][j\u001b[39m+\u001b[39m\u001b[39m1\u001b[39m][h] \u001b[39mfor\u001b[39;00m j, h \u001b[39min\u001b[39;00m \u001b[39menumerate\u001b[39m(hs)]) \u001b[39mfor\u001b[39;00m i, hs \u001b[39min\u001b[39;00m \u001b[39menumerate\u001b[39m(head_seqs)]\n",
      "File \u001b[1;32me:\\Conda\\envs\\here\\lib\\site-packages\\torch\\nn\\modules\\module.py:1518\u001b[0m, in \u001b[0;36mModule._wrapped_call_impl\u001b[1;34m(self, *args, **kwargs)\u001b[0m\n\u001b[0;32m   1516\u001b[0m     \u001b[39mreturn\u001b[39;00m \u001b[39mself\u001b[39m\u001b[39m.\u001b[39m_compiled_call_impl(\u001b[39m*\u001b[39margs, \u001b[39m*\u001b[39m\u001b[39m*\u001b[39mkwargs)  \u001b[39m# type: ignore[misc]\u001b[39;00m\n\u001b[0;32m   1517\u001b[0m \u001b[39melse\u001b[39;00m:\n\u001b[1;32m-> 1518\u001b[0m     \u001b[39mreturn\u001b[39;00m \u001b[39mself\u001b[39m\u001b[39m.\u001b[39m_call_impl(\u001b[39m*\u001b[39margs, \u001b[39m*\u001b[39m\u001b[39m*\u001b[39mkwargs)\n",
      "File \u001b[1;32me:\\Conda\\envs\\here\\lib\\site-packages\\torch\\nn\\modules\\module.py:1527\u001b[0m, in \u001b[0;36mModule._call_impl\u001b[1;34m(self, *args, **kwargs)\u001b[0m\n\u001b[0;32m   1522\u001b[0m \u001b[39m# If we don't have any hooks, we want to skip the rest of the logic in\u001b[39;00m\n\u001b[0;32m   1523\u001b[0m \u001b[39m# this function, and just call forward.\u001b[39;00m\n\u001b[0;32m   1524\u001b[0m \u001b[39mif\u001b[39;00m \u001b[39mnot\u001b[39;00m (\u001b[39mself\u001b[39m\u001b[39m.\u001b[39m_backward_hooks \u001b[39mor\u001b[39;00m \u001b[39mself\u001b[39m\u001b[39m.\u001b[39m_backward_pre_hooks \u001b[39mor\u001b[39;00m \u001b[39mself\u001b[39m\u001b[39m.\u001b[39m_forward_hooks \u001b[39mor\u001b[39;00m \u001b[39mself\u001b[39m\u001b[39m.\u001b[39m_forward_pre_hooks\n\u001b[0;32m   1525\u001b[0m         \u001b[39mor\u001b[39;00m _global_backward_pre_hooks \u001b[39mor\u001b[39;00m _global_backward_hooks\n\u001b[0;32m   1526\u001b[0m         \u001b[39mor\u001b[39;00m _global_forward_hooks \u001b[39mor\u001b[39;00m _global_forward_pre_hooks):\n\u001b[1;32m-> 1527\u001b[0m     \u001b[39mreturn\u001b[39;00m forward_call(\u001b[39m*\u001b[39margs, \u001b[39m*\u001b[39m\u001b[39m*\u001b[39mkwargs)\n\u001b[0;32m   1529\u001b[0m \u001b[39mtry\u001b[39;00m:\n\u001b[0;32m   1530\u001b[0m     result \u001b[39m=\u001b[39m \u001b[39mNone\u001b[39;00m\n",
      "File \u001b[1;32me:\\Conda\\envs\\here\\lib\\site-packages\\stanza\\models\\depparse\\model.py:201\u001b[0m, in \u001b[0;36mParser.forward\u001b[1;34m(self, word, word_mask, wordchars, wordchars_mask, upos, xpos, ufeats, pretrained, lemma, head, deprel, word_orig_idx, sentlens, wordlens, text)\u001b[0m\n\u001b[0;32m    197\u001b[0m lstm_inputs \u001b[39m=\u001b[39m \u001b[39mself\u001b[39m\u001b[39m.\u001b[39mdrop(lstm_inputs)\n\u001b[0;32m    199\u001b[0m lstm_inputs \u001b[39m=\u001b[39m PackedSequence(lstm_inputs, inputs[\u001b[39m0\u001b[39m]\u001b[39m.\u001b[39mbatch_sizes)\n\u001b[1;32m--> 201\u001b[0m lstm_outputs, _ \u001b[39m=\u001b[39m \u001b[39mself\u001b[39;49m\u001b[39m.\u001b[39;49mparserlstm(lstm_inputs, sentlens, hx\u001b[39m=\u001b[39;49m(\u001b[39mself\u001b[39;49m\u001b[39m.\u001b[39;49mparserlstm_h_init\u001b[39m.\u001b[39;49mexpand(\u001b[39m2\u001b[39;49m \u001b[39m*\u001b[39;49m \u001b[39mself\u001b[39;49m\u001b[39m.\u001b[39;49margs[\u001b[39m'\u001b[39;49m\u001b[39mnum_layers\u001b[39;49m\u001b[39m'\u001b[39;49m], word\u001b[39m.\u001b[39;49msize(\u001b[39m0\u001b[39;49m), \u001b[39mself\u001b[39;49m\u001b[39m.\u001b[39;49margs[\u001b[39m'\u001b[39;49m\u001b[39mhidden_dim\u001b[39;49m\u001b[39m'\u001b[39;49m])\u001b[39m.\u001b[39;49mcontiguous(), \u001b[39mself\u001b[39;49m\u001b[39m.\u001b[39;49mparserlstm_c_init\u001b[39m.\u001b[39;49mexpand(\u001b[39m2\u001b[39;49m \u001b[39m*\u001b[39;49m \u001b[39mself\u001b[39;49m\u001b[39m.\u001b[39;49margs[\u001b[39m'\u001b[39;49m\u001b[39mnum_layers\u001b[39;49m\u001b[39m'\u001b[39;49m], word\u001b[39m.\u001b[39;49msize(\u001b[39m0\u001b[39;49m), \u001b[39mself\u001b[39;49m\u001b[39m.\u001b[39;49margs[\u001b[39m'\u001b[39;49m\u001b[39mhidden_dim\u001b[39;49m\u001b[39m'\u001b[39;49m])\u001b[39m.\u001b[39;49mcontiguous()))\n\u001b[0;32m    202\u001b[0m lstm_outputs, _ \u001b[39m=\u001b[39m pad_packed_sequence(lstm_outputs, batch_first\u001b[39m=\u001b[39m\u001b[39mTrue\u001b[39;00m)\n\u001b[0;32m    204\u001b[0m unlabeled_scores \u001b[39m=\u001b[39m \u001b[39mself\u001b[39m\u001b[39m.\u001b[39munlabeled(\u001b[39mself\u001b[39m\u001b[39m.\u001b[39mdrop(lstm_outputs), \u001b[39mself\u001b[39m\u001b[39m.\u001b[39mdrop(lstm_outputs))\u001b[39m.\u001b[39msqueeze(\u001b[39m3\u001b[39m)\n",
      "File \u001b[1;32me:\\Conda\\envs\\here\\lib\\site-packages\\torch\\nn\\modules\\module.py:1518\u001b[0m, in \u001b[0;36mModule._wrapped_call_impl\u001b[1;34m(self, *args, **kwargs)\u001b[0m\n\u001b[0;32m   1516\u001b[0m     \u001b[39mreturn\u001b[39;00m \u001b[39mself\u001b[39m\u001b[39m.\u001b[39m_compiled_call_impl(\u001b[39m*\u001b[39margs, \u001b[39m*\u001b[39m\u001b[39m*\u001b[39mkwargs)  \u001b[39m# type: ignore[misc]\u001b[39;00m\n\u001b[0;32m   1517\u001b[0m \u001b[39melse\u001b[39;00m:\n\u001b[1;32m-> 1518\u001b[0m     \u001b[39mreturn\u001b[39;00m \u001b[39mself\u001b[39m\u001b[39m.\u001b[39m_call_impl(\u001b[39m*\u001b[39margs, \u001b[39m*\u001b[39m\u001b[39m*\u001b[39mkwargs)\n",
      "File \u001b[1;32me:\\Conda\\envs\\here\\lib\\site-packages\\torch\\nn\\modules\\module.py:1527\u001b[0m, in \u001b[0;36mModule._call_impl\u001b[1;34m(self, *args, **kwargs)\u001b[0m\n\u001b[0;32m   1522\u001b[0m \u001b[39m# If we don't have any hooks, we want to skip the rest of the logic in\u001b[39;00m\n\u001b[0;32m   1523\u001b[0m \u001b[39m# this function, and just call forward.\u001b[39;00m\n\u001b[0;32m   1524\u001b[0m \u001b[39mif\u001b[39;00m \u001b[39mnot\u001b[39;00m (\u001b[39mself\u001b[39m\u001b[39m.\u001b[39m_backward_hooks \u001b[39mor\u001b[39;00m \u001b[39mself\u001b[39m\u001b[39m.\u001b[39m_backward_pre_hooks \u001b[39mor\u001b[39;00m \u001b[39mself\u001b[39m\u001b[39m.\u001b[39m_forward_hooks \u001b[39mor\u001b[39;00m \u001b[39mself\u001b[39m\u001b[39m.\u001b[39m_forward_pre_hooks\n\u001b[0;32m   1525\u001b[0m         \u001b[39mor\u001b[39;00m _global_backward_pre_hooks \u001b[39mor\u001b[39;00m _global_backward_hooks\n\u001b[0;32m   1526\u001b[0m         \u001b[39mor\u001b[39;00m _global_forward_hooks \u001b[39mor\u001b[39;00m _global_forward_pre_hooks):\n\u001b[1;32m-> 1527\u001b[0m     \u001b[39mreturn\u001b[39;00m forward_call(\u001b[39m*\u001b[39margs, \u001b[39m*\u001b[39m\u001b[39m*\u001b[39mkwargs)\n\u001b[0;32m   1529\u001b[0m \u001b[39mtry\u001b[39;00m:\n\u001b[0;32m   1530\u001b[0m     result \u001b[39m=\u001b[39m \u001b[39mNone\u001b[39;00m\n",
      "File \u001b[1;32me:\\Conda\\envs\\here\\lib\\site-packages\\stanza\\models\\common\\hlstm.py:104\u001b[0m, in \u001b[0;36mHighwayLSTM.forward\u001b[1;34m(self, input, seqlens, hx)\u001b[0m\n\u001b[0;32m    102\u001b[0m     \u001b[39minput\u001b[39m \u001b[39m=\u001b[39m PackedSequence(\u001b[39mself\u001b[39m\u001b[39m.\u001b[39mdrop(\u001b[39minput\u001b[39m\u001b[39m.\u001b[39mdata), \u001b[39minput\u001b[39m\u001b[39m.\u001b[39mbatch_sizes, \u001b[39minput\u001b[39m\u001b[39m.\u001b[39msorted_indices, \u001b[39minput\u001b[39m\u001b[39m.\u001b[39munsorted_indices)\n\u001b[0;32m    103\u001b[0m layer_hx \u001b[39m=\u001b[39m (hx[\u001b[39m0\u001b[39m][l \u001b[39m*\u001b[39m \u001b[39mself\u001b[39m\u001b[39m.\u001b[39mnum_directions:(l\u001b[39m+\u001b[39m\u001b[39m1\u001b[39m)\u001b[39m*\u001b[39m\u001b[39mself\u001b[39m\u001b[39m.\u001b[39mnum_directions], hx[\u001b[39m1\u001b[39m][l \u001b[39m*\u001b[39m \u001b[39mself\u001b[39m\u001b[39m.\u001b[39mnum_directions:(l\u001b[39m+\u001b[39m\u001b[39m1\u001b[39m)\u001b[39m*\u001b[39m\u001b[39mself\u001b[39m\u001b[39m.\u001b[39mnum_directions]) \u001b[39mif\u001b[39;00m hx \u001b[39mis\u001b[39;00m \u001b[39mnot\u001b[39;00m \u001b[39mNone\u001b[39;00m \u001b[39melse\u001b[39;00m \u001b[39mNone\u001b[39;00m\n\u001b[1;32m--> 104\u001b[0m h, (ht, ct) \u001b[39m=\u001b[39m \u001b[39mself\u001b[39;49m\u001b[39m.\u001b[39;49mlstm[l](\u001b[39minput\u001b[39;49m, seqlens, layer_hx)\n\u001b[0;32m    106\u001b[0m hs\u001b[39m.\u001b[39mappend(ht)\n\u001b[0;32m    107\u001b[0m cs\u001b[39m.\u001b[39mappend(ct)\n",
      "File \u001b[1;32me:\\Conda\\envs\\here\\lib\\site-packages\\torch\\nn\\modules\\module.py:1518\u001b[0m, in \u001b[0;36mModule._wrapped_call_impl\u001b[1;34m(self, *args, **kwargs)\u001b[0m\n\u001b[0;32m   1516\u001b[0m     \u001b[39mreturn\u001b[39;00m \u001b[39mself\u001b[39m\u001b[39m.\u001b[39m_compiled_call_impl(\u001b[39m*\u001b[39margs, \u001b[39m*\u001b[39m\u001b[39m*\u001b[39mkwargs)  \u001b[39m# type: ignore[misc]\u001b[39;00m\n\u001b[0;32m   1517\u001b[0m \u001b[39melse\u001b[39;00m:\n\u001b[1;32m-> 1518\u001b[0m     \u001b[39mreturn\u001b[39;00m \u001b[39mself\u001b[39m\u001b[39m.\u001b[39m_call_impl(\u001b[39m*\u001b[39margs, \u001b[39m*\u001b[39m\u001b[39m*\u001b[39mkwargs)\n",
      "File \u001b[1;32me:\\Conda\\envs\\here\\lib\\site-packages\\torch\\nn\\modules\\module.py:1527\u001b[0m, in \u001b[0;36mModule._call_impl\u001b[1;34m(self, *args, **kwargs)\u001b[0m\n\u001b[0;32m   1522\u001b[0m \u001b[39m# If we don't have any hooks, we want to skip the rest of the logic in\u001b[39;00m\n\u001b[0;32m   1523\u001b[0m \u001b[39m# this function, and just call forward.\u001b[39;00m\n\u001b[0;32m   1524\u001b[0m \u001b[39mif\u001b[39;00m \u001b[39mnot\u001b[39;00m (\u001b[39mself\u001b[39m\u001b[39m.\u001b[39m_backward_hooks \u001b[39mor\u001b[39;00m \u001b[39mself\u001b[39m\u001b[39m.\u001b[39m_backward_pre_hooks \u001b[39mor\u001b[39;00m \u001b[39mself\u001b[39m\u001b[39m.\u001b[39m_forward_hooks \u001b[39mor\u001b[39;00m \u001b[39mself\u001b[39m\u001b[39m.\u001b[39m_forward_pre_hooks\n\u001b[0;32m   1525\u001b[0m         \u001b[39mor\u001b[39;00m _global_backward_pre_hooks \u001b[39mor\u001b[39;00m _global_backward_hooks\n\u001b[0;32m   1526\u001b[0m         \u001b[39mor\u001b[39;00m _global_forward_hooks \u001b[39mor\u001b[39;00m _global_forward_pre_hooks):\n\u001b[1;32m-> 1527\u001b[0m     \u001b[39mreturn\u001b[39;00m forward_call(\u001b[39m*\u001b[39margs, \u001b[39m*\u001b[39m\u001b[39m*\u001b[39mkwargs)\n\u001b[0;32m   1529\u001b[0m \u001b[39mtry\u001b[39;00m:\n\u001b[0;32m   1530\u001b[0m     result \u001b[39m=\u001b[39m \u001b[39mNone\u001b[39;00m\n",
      "File \u001b[1;32me:\\Conda\\envs\\here\\lib\\site-packages\\stanza\\models\\common\\packed_lstm.py:22\u001b[0m, in \u001b[0;36mPackedLSTM.forward\u001b[1;34m(self, input, lengths, hx)\u001b[0m\n\u001b[0;32m     19\u001b[0m \u001b[39mif\u001b[39;00m \u001b[39mnot\u001b[39;00m \u001b[39misinstance\u001b[39m(\u001b[39minput\u001b[39m, PackedSequence):\n\u001b[0;32m     20\u001b[0m     \u001b[39minput\u001b[39m \u001b[39m=\u001b[39m pack_padded_sequence(\u001b[39minput\u001b[39m, lengths, batch_first\u001b[39m=\u001b[39m\u001b[39mself\u001b[39m\u001b[39m.\u001b[39mbatch_first)\n\u001b[1;32m---> 22\u001b[0m res \u001b[39m=\u001b[39m \u001b[39mself\u001b[39;49m\u001b[39m.\u001b[39;49mlstm(\u001b[39minput\u001b[39;49m, hx)\n\u001b[0;32m     23\u001b[0m \u001b[39mif\u001b[39;00m \u001b[39mself\u001b[39m\u001b[39m.\u001b[39mpad:\n\u001b[0;32m     24\u001b[0m     res \u001b[39m=\u001b[39m (pad_packed_sequence(res[\u001b[39m0\u001b[39m], batch_first\u001b[39m=\u001b[39m\u001b[39mself\u001b[39m\u001b[39m.\u001b[39mbatch_first)[\u001b[39m0\u001b[39m], res[\u001b[39m1\u001b[39m])\n",
      "File \u001b[1;32me:\\Conda\\envs\\here\\lib\\site-packages\\torch\\nn\\modules\\module.py:1518\u001b[0m, in \u001b[0;36mModule._wrapped_call_impl\u001b[1;34m(self, *args, **kwargs)\u001b[0m\n\u001b[0;32m   1516\u001b[0m     \u001b[39mreturn\u001b[39;00m \u001b[39mself\u001b[39m\u001b[39m.\u001b[39m_compiled_call_impl(\u001b[39m*\u001b[39margs, \u001b[39m*\u001b[39m\u001b[39m*\u001b[39mkwargs)  \u001b[39m# type: ignore[misc]\u001b[39;00m\n\u001b[0;32m   1517\u001b[0m \u001b[39melse\u001b[39;00m:\n\u001b[1;32m-> 1518\u001b[0m     \u001b[39mreturn\u001b[39;00m \u001b[39mself\u001b[39m\u001b[39m.\u001b[39m_call_impl(\u001b[39m*\u001b[39margs, \u001b[39m*\u001b[39m\u001b[39m*\u001b[39mkwargs)\n",
      "File \u001b[1;32me:\\Conda\\envs\\here\\lib\\site-packages\\torch\\nn\\modules\\module.py:1527\u001b[0m, in \u001b[0;36mModule._call_impl\u001b[1;34m(self, *args, **kwargs)\u001b[0m\n\u001b[0;32m   1522\u001b[0m \u001b[39m# If we don't have any hooks, we want to skip the rest of the logic in\u001b[39;00m\n\u001b[0;32m   1523\u001b[0m \u001b[39m# this function, and just call forward.\u001b[39;00m\n\u001b[0;32m   1524\u001b[0m \u001b[39mif\u001b[39;00m \u001b[39mnot\u001b[39;00m (\u001b[39mself\u001b[39m\u001b[39m.\u001b[39m_backward_hooks \u001b[39mor\u001b[39;00m \u001b[39mself\u001b[39m\u001b[39m.\u001b[39m_backward_pre_hooks \u001b[39mor\u001b[39;00m \u001b[39mself\u001b[39m\u001b[39m.\u001b[39m_forward_hooks \u001b[39mor\u001b[39;00m \u001b[39mself\u001b[39m\u001b[39m.\u001b[39m_forward_pre_hooks\n\u001b[0;32m   1525\u001b[0m         \u001b[39mor\u001b[39;00m _global_backward_pre_hooks \u001b[39mor\u001b[39;00m _global_backward_hooks\n\u001b[0;32m   1526\u001b[0m         \u001b[39mor\u001b[39;00m _global_forward_hooks \u001b[39mor\u001b[39;00m _global_forward_pre_hooks):\n\u001b[1;32m-> 1527\u001b[0m     \u001b[39mreturn\u001b[39;00m forward_call(\u001b[39m*\u001b[39margs, \u001b[39m*\u001b[39m\u001b[39m*\u001b[39mkwargs)\n\u001b[0;32m   1529\u001b[0m \u001b[39mtry\u001b[39;00m:\n\u001b[0;32m   1530\u001b[0m     result \u001b[39m=\u001b[39m \u001b[39mNone\u001b[39;00m\n",
      "File \u001b[1;32me:\\Conda\\envs\\here\\lib\\site-packages\\torch\\nn\\modules\\rnn.py:882\u001b[0m, in \u001b[0;36mLSTM.forward\u001b[1;34m(self, input, hx)\u001b[0m\n\u001b[0;32m    879\u001b[0m     result \u001b[39m=\u001b[39m _VF\u001b[39m.\u001b[39mlstm(\u001b[39minput\u001b[39m, hx, \u001b[39mself\u001b[39m\u001b[39m.\u001b[39m_flat_weights, \u001b[39mself\u001b[39m\u001b[39m.\u001b[39mbias, \u001b[39mself\u001b[39m\u001b[39m.\u001b[39mnum_layers,\n\u001b[0;32m    880\u001b[0m                       \u001b[39mself\u001b[39m\u001b[39m.\u001b[39mdropout, \u001b[39mself\u001b[39m\u001b[39m.\u001b[39mtraining, \u001b[39mself\u001b[39m\u001b[39m.\u001b[39mbidirectional, \u001b[39mself\u001b[39m\u001b[39m.\u001b[39mbatch_first)\n\u001b[0;32m    881\u001b[0m \u001b[39melse\u001b[39;00m:\n\u001b[1;32m--> 882\u001b[0m     result \u001b[39m=\u001b[39m _VF\u001b[39m.\u001b[39;49mlstm(\u001b[39minput\u001b[39;49m, batch_sizes, hx, \u001b[39mself\u001b[39;49m\u001b[39m.\u001b[39;49m_flat_weights, \u001b[39mself\u001b[39;49m\u001b[39m.\u001b[39;49mbias,\n\u001b[0;32m    883\u001b[0m                       \u001b[39mself\u001b[39;49m\u001b[39m.\u001b[39;49mnum_layers, \u001b[39mself\u001b[39;49m\u001b[39m.\u001b[39;49mdropout, \u001b[39mself\u001b[39;49m\u001b[39m.\u001b[39;49mtraining, \u001b[39mself\u001b[39;49m\u001b[39m.\u001b[39;49mbidirectional)\n\u001b[0;32m    884\u001b[0m output \u001b[39m=\u001b[39m result[\u001b[39m0\u001b[39m]\n\u001b[0;32m    885\u001b[0m hidden \u001b[39m=\u001b[39m result[\u001b[39m1\u001b[39m:]\n",
      "\u001b[1;31mKeyboardInterrupt\u001b[0m: "
     ]
    }
   ],
   "source": [
    "text_rank = textRank.TextRankSummarizer(verbose=True)\n",
    "summary = text_rank(d['text'][0], 3)\n",
    "print()\n",
    "print(\"Итоговый реферат: {}\".format(summary))"
   ]
  },
  {
   "cell_type": "code",
   "execution_count": 42,
   "metadata": {},
   "outputs": [
    {
     "data": {
      "text/plain": [
       "'В Белоруссии многие работают на себя, а не на государство \"Пора прекращать это иждивенчество! 400 тысяч должны быть вовлечены именем революции в работу! Бездельников не должно быть в стране! До 1 января принять меры, чтобы все работали, заставить всех работать!\" - заявил Александр Лукашенко на совещании по вопросам занятости и миграции, прошедшем в минувший понедельник. Президент Белоруссии поддержал инициативу МВД привлекать к ответственности, в том числе к принудительному трудоустройству, граждан, которые умышленно не работают, заметив: \"Хотите вернуть понятие \"тунеядство\" - возвращайте. Это будет понятнее для народа. Не надо ничего доброго, что было в советские времена сделано, отбрасывать, в том числе терминологию\". Советская система борьбы с тунеядством, определенная в 1961 году указом Президиума Верховного Совета СССР \"Об усилении борьбы с лицами (бездельниками, тунеядцами, паразитами), уклоняющимися от общественно–полезного труда и ведущими антиобщественный паразитический образ жизни\", действовала 30 лет. Ответственности за тунеядство подлежали лица, не работавшие более четырех месяцев в году (исключение делалось женщинам, воспитывающим малолетних детей). Лукашенко подчеркнул, что к поиску кардинальных мер вынуждает состояние рынка труда: население страны стареет, нарастает дефицит рабочей силы, увеличивается нагрузка на систему соцзащиты, прежде всего на пенсионное обеспечение и здравоохранение. Лукавство цифр Официальный уровень безработицы в Белоруссии, по данным Минтруда, уже более года составляет 0,5% к численности экономически активного населения; сейчас безработными числятся 21 228 человек. Численность занятых в экономике, по подсчетам того же министерства, на конец июня составила 4463,8 тыс. человек. Но Национальный статистический комитет утверждает, что в начале 2014 года трудоспособных граждан в стране было 5,6 млн человек (59,4% от общей численности населения). Простая арифметика подсказывает: из белорусского производства \"сбежали\" более миллиона работников! К слову, подобное количество – миллион – некоторое время назад называло МВД, увлеченное борьбой с незаконной трудовой миграцией белорусов в Россию. Но президент Лукашенко озвучил иные цифры. \"Как мне докладывают, около 500 тысяч наших граждан не задействованы в экономике страны. Пусть 100 тысяч -- это домохозяйки и работающие на собственном подворье. А 400 тысяч чем занимаются? За чей счет живут?\" - возмутился президент. \"Давайте посчитаем, - предлагает руководитель аналитического центра \"Стратегия\" Леонид Заико, усомнившийся в точности доложенных президенту цифр. - В Беларуси рождается примерно 100 тысяч детей ежегодно. По нашим законам, мама может быть с ребенком дома до трех лет. Значит, примерно 300 тысяч женщин исключены из общественного труда, заняты личным. 3-5 процентов населения страдает от заболеваний, это норма биологической активности. Есть уже неспособные к труду алкоголики, наркоманы. Что-то не сходится!\" Экономист Ярослав Романчук уверен, что, который год рассуждая о путях возвращения работников в отечественное хозяйство, чиновники еще и не приступали к изучению вопроса. \"Может быть, и полмиллиона, может быть, и миллион. Это цифра, которую никто не может определить, так как никто не знает, какие критерии использовать. Так что Лукашенко просто выстрелил в воздух, потому что таких исследований никто не делал\", - утверждает Романчук. Длинный список угроз Конституция Белоруссии дает белорусам право на труд, но не предусматривает обязанности трудиться. Возвращение к \"доброму советскому опыту\", как замечают эксперты, требует длительной и многоступенчатой корректировки законов – изменения в конституции, например, невозможны без референдума. Но требование Лукашенко навести порядок \"именем революции\" побуждает чиновников к изобретению коротких путей. \"В ноябре прошлого года мы предлагали ввести штраф для тех, кто более шести месяцев в течение года уклоняется от уплаты налогов. А для тех, кто категорически не желает работать, — даже арест, причем с обязательным привлечением к труду\", — сообщил через главную газету страны \"Советская Белоруссия\" начальник управления профилактики МВД Олег Каразей. Предложение МВД, сначала отклоненное правительством, по словам милицейского начальника, вновь принято к рассмотрению. Минтруда предлагает пересмотреть порядок начисления пенсий – и трудовых, и социальных – по принципу \"мало работал — мало получи\". Премьер Михаил Мясникович еще год назад грозил безработным налогом в 20 базовых величин в год (размер базовой величины устанавливается и периодически корректируется правительством, сейчас одна базовая величина равна 150 тысячам белорусских рублей – около 15 долларов). Руководящие чиновники не однажды пугали \"отлынивающих\" белорусов планами ввести для них 100-процентную оплату коммунальных услуг, платное посещение поликлиник и т.п. К длинному списку ранее звучавших угроз правительство добавило намерение увеличить срок минимального рабочего стажа для начисления трудовых пенсий с 10 до 15 лет, а при отсутствии такого стажа повысить возраст для обращения за социальной пенсией на пять лет: до 60 лет для женщин и 65 лет для мужчин. \"Нам нужен результат. Как вы будете добиваться результата - это ваше дело\", - заявил чиновникам президент Лукашенко. А будет ли результат? Обещание строгих мер возбудило обывателей, активизировало специалистов по идеологической работе – борьба с тунеядством стала темой политинформаций в трудовых коллективах. Но независимые экономисты и эксперты настроены скептически. \"Идея привлекать к труду – это прямо из работы Энгельса, \"Происхождение семьи, частной собственности и государства\". Фридрих Энгельс как предприниматель вдруг решил, что труд сделал из обезьяны человека. Эта обезьянья энгелесовская трактовка сидит в голове у другого теперь известного человека, - иронизирует экономист Леонид Заико. – У нас есть отец – правда, уже пенсионного возраста, - который заботится о своих сыновьях и детях, учит, чтобы работали, ходили в школу, не пили, не курили. Это не очень действенно\". \"Проблема остра, но не в тунеядстве она заключается. Проблема в том, что с бюджетом дела не очень хороши, и ищется любой способ его пополнения\", - замечает эксперт Сергей Чалый. В предстоящем году Лукашенко ожидают очередные президентские выборы, и ему важно поддерживать иллюзию социального государства и тему социальной справедливости, отмечает эксперт. В Белоруссии практически нет безработицы, а есть дефицит рабочей силы \"О конституционности задуманных решений говорить не приходится, - говорит Сергей Чалый. - В лучшем случае все сведется к тому, что, как в советские времена, творческая интеллигенция будет записываться в дворники – чтобы трудовая книжка была пристроена. В худшем – участковые будут ходить по дворам, переписывая тунеядцев и вынуждая огромную бюрократическую машину регистрировать, судить, привлекать, контролировать...\" \"Затраты на администрирование такого процесса могут превысить доход от задуманного\", - предупреждает эксперт. Мигранты – не выход Объявления со словами \"требуются\" - примета белорусских городов, вызывающая изумление иностранцев. Только в столице трудовых вакансий в 11,8 раз больше, чем официально безработных минчан. Три четверти вакансий в стране – по рабочим специальностям, и строителями, доярками, трактористами в Белоруссии все чаще работают граждане Туркменистана, Китая, соседней Украины. В связи с ситуацией на Украине белорусский президент указом от 30 августа упростил порядок оформления пребывания и трудоустройства граждан Украины в Белоруссии. И начальник отдела внешней трудовой миграции, беженцев и убежища ГУВД Мингорисполкома Елена Медведева в среду сообщила прессе, что из более чем 4000 трудоустроенных в белорусской столице украинцев 75 заняли посты руководителей организаций и предприятий. Что это за директорские кресла, на которые не польстились белорусы, - риторический вопрос, замечает экономист Леонид Заико. \"Посмотрите на зарплаты... Человек ищет, где у него нормальные условия труда, где есть развитие. Заработная плата в России в два раза выше, условия для ведения бизнеса несравненно лучше\", – объясняет эксперт. \"Проблема в том, что белорусы вместо рабочих спецовок покупают чемоданы\", - констатирует Леонид Заико. Президент Лукашенко, совсем недавно заявлявший о готовности принять в страну мигрантов, числом вдвое большим 9-миллионного населения Белоруссии, нынче осторожен. \"Открытая политика, направленная на привлечение трудовых мигрантов, как показал опыт Европы, не всегда бывает успешной\", - заметил он. \"Если не хотим межнациональных конфликтов у себя в стране, надо задействовать белорусских граждан на полную катушку, а не плодить иждивенчество среди своих и привлекать иностранную рабочую силу на так называемую непрестижную работу\", - заявил Лукашенко на совещании по вопросам занятости и миграции.'"
      ]
     },
     "execution_count": 42,
     "metadata": {},
     "output_type": "execute_result"
    }
   ],
   "source": [
    "d['text'][0]"
   ]
  },
  {
   "cell_type": "code",
   "execution_count": null,
   "metadata": {},
   "outputs": [],
   "source": []
  },
  {
   "cell_type": "code",
   "execution_count": 23,
   "metadata": {},
   "outputs": [],
   "source": [
    "import sys\n",
    "sys.path.append('/arctic_news/preprocess_data/a')\n"
   ]
  },
  {
   "cell_type": "code",
   "execution_count": 34,
   "metadata": {},
   "outputs": [
    {
     "ename": "ModuleNotFoundError",
     "evalue": "No module named 'decorators'",
     "output_type": "error",
     "traceback": [
      "\u001b[1;31m---------------------------------------------------------------------------\u001b[0m",
      "\u001b[1;31mModuleNotFoundError\u001b[0m                       Traceback (most recent call last)",
      "\u001b[1;32mc:\\Users\\sante\\OneDrive\\Документы\\labs\\arctic_news\\arctic_news\\generator\\textRankTest.ipynb Cell 3\u001b[0m line \u001b[0;36m1\n\u001b[1;32m----> <a href='vscode-notebook-cell:/c%3A/Users/sante/OneDrive/%D0%94%D0%BE%D0%BA%D1%83%D0%BC%D0%B5%D0%BD%D1%82%D1%8B/labs/arctic_news/arctic_news/generator/textRankTest.ipynb#W4sZmlsZQ%3D%3D?line=0'>1</a>\u001b[0m \u001b[39mfrom\u001b[39;00m \u001b[39mdecorators\u001b[39;00m \u001b[39mimport\u001b[39;00m trace\n",
      "\u001b[1;31mModuleNotFoundError\u001b[0m: No module named 'decorators'"
     ]
    }
   ],
   "source": [
    "from decorators import trace"
   ]
  },
  {
   "cell_type": "code",
   "execution_count": 35,
   "metadata": {},
   "outputs": [
    {
     "ename": "ModuleNotFoundError",
     "evalue": "No module named 'sklearn'",
     "output_type": "error",
     "traceback": [
      "\u001b[1;31m---------------------------------------------------------------------------\u001b[0m",
      "\u001b[1;31mModuleNotFoundError\u001b[0m                       Traceback (most recent call last)",
      "\u001b[1;32mc:\\Users\\sante\\OneDrive\\Документы\\labs\\arctic_news\\arctic_news\\generator\\textRankTest.ipynb Cell 4\u001b[0m line \u001b[0;36m1\n\u001b[1;32m----> <a href='vscode-notebook-cell:/c%3A/Users/sante/OneDrive/%D0%94%D0%BE%D0%BA%D1%83%D0%BC%D0%B5%D0%BD%D1%82%D1%8B/labs/arctic_news/arctic_news/generator/textRankTest.ipynb#W1sZmlsZQ%3D%3D?line=0'>1</a>\u001b[0m \u001b[39mfrom\u001b[39;00m \u001b[39mpreprocessor\u001b[39;00m\u001b[39m.\u001b[39;00m\u001b[39mnormalize\u001b[39;00m \u001b[39mimport\u001b[39;00m Normalize\n",
      "File \u001b[1;32mc:\\Users\\sante\\OneDrive\\Документы\\labs\\arctic_news\\arctic_news\\generator\\preprocessor\\normalize.py:5\u001b[0m\n\u001b[0;32m      3\u001b[0m \u001b[39mfrom\u001b[39;00m \u001b[39mnltk\u001b[39;00m\u001b[39m.\u001b[39;00m\u001b[39mtokenize\u001b[39;00m \u001b[39mimport\u001b[39;00m word_tokenize\n\u001b[0;32m      4\u001b[0m \u001b[39mfrom\u001b[39;00m \u001b[39mnltk\u001b[39;00m\u001b[39m.\u001b[39;00m\u001b[39mstem\u001b[39;00m \u001b[39mimport\u001b[39;00m WordNetLemmatizer\n\u001b[1;32m----> 5\u001b[0m \u001b[39mfrom\u001b[39;00m \u001b[39msklearn\u001b[39;00m\u001b[39m.\u001b[39;00m\u001b[39mfeature_extraction\u001b[39;00m\u001b[39m.\u001b[39;00m\u001b[39mtext\u001b[39;00m \u001b[39mimport\u001b[39;00m TfidfVectorizer\n\u001b[0;32m      6\u001b[0m \u001b[39mfrom\u001b[39;00m \u001b[39msklearn\u001b[39;00m\u001b[39m.\u001b[39;00m\u001b[39mmetrics\u001b[39;00m\u001b[39m.\u001b[39;00m\u001b[39mpairwise\u001b[39;00m \u001b[39mimport\u001b[39;00m cosine_similarity\n\u001b[0;32m      8\u001b[0m \u001b[39mimport\u001b[39;00m \u001b[39mstanza\u001b[39;00m\n",
      "\u001b[1;31mModuleNotFoundError\u001b[0m: No module named 'sklearn'"
     ]
    }
   ],
   "source": [
    "from preprocessor.normalize import Normalize"
   ]
  },
  {
   "cell_type": "code",
   "execution_count": 2,
   "metadata": {},
   "outputs": [
    {
     "ename": "ModuleNotFoundError",
     "evalue": "No module named 'preprocess'",
     "output_type": "error",
     "traceback": [
      "\u001b[1;31m---------------------------------------------------------------------------\u001b[0m",
      "\u001b[1;31mModuleNotFoundError\u001b[0m                       Traceback (most recent call last)",
      "\u001b[1;32mc:\\Users\\sante\\OneDrive\\Документы\\labs\\arctic_news\\arctic_news\\generator\\textRankTest.ipynb Cell 3\u001b[0m line \u001b[0;36m1\n\u001b[1;32m----> <a href='vscode-notebook-cell:/c%3A/Users/sante/OneDrive/%D0%94%D0%BE%D0%BA%D1%83%D0%BC%D0%B5%D0%BD%D1%82%D1%8B/labs/arctic_news/arctic_news/generator/textRankTest.ipynb#W2sZmlsZQ%3D%3D?line=0'>1</a>\u001b[0m \u001b[39mfrom\u001b[39;00m \u001b[39mpreprocess\u001b[39;00m\u001b[39m.\u001b[39;00m\u001b[39mnormalize\u001b[39;00m \u001b[39mimport\u001b[39;00m Normalize\n",
      "\u001b[1;31mModuleNotFoundError\u001b[0m: No module named 'preprocess'"
     ]
    }
   ],
   "source": [
    "from preprocess.normalize import Normalize"
   ]
  }
 ],
 "metadata": {
  "kernelspec": {
   "display_name": "Python 3",
   "language": "python",
   "name": "python3"
  },
  "language_info": {
   "codemirror_mode": {
    "name": "ipython",
    "version": 3
   },
   "file_extension": ".py",
   "mimetype": "text/x-python",
   "name": "python",
   "nbconvert_exporter": "python",
   "pygments_lexer": "ipython3",
   "version": "3.11.5"
  }
 },
 "nbformat": 4,
 "nbformat_minor": 2
}
