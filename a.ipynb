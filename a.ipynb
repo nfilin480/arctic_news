{
 "cells": [
  {
   "cell_type": "code",
   "execution_count": 2,
   "metadata": {},
   "outputs": [
    {
     "data": {
      "text/plain": [
       "0    ['прошлый год президент избегнуть убийство сев...\n",
       "1    ['брифинг чиновник напомнить 2010 год принять ...\n",
       "2    ['результат совместный действие министерство ю...\n",
       "Name: Normalized_news, dtype: object"
      ]
     },
     "execution_count": 2,
     "metadata": {},
     "output_type": "execute_result"
    }
   ],
   "source": [
    "import pandas as pd\n",
    "\n",
    "pd.read_csv('../data_bertClass.csv')['Normalized_news']"
   ]
  }
 ],
 "metadata": {
  "kernelspec": {
   "display_name": "news_summ",
   "language": "python",
   "name": "python3"
  },
  "language_info": {
   "codemirror_mode": {
    "name": "ipython",
    "version": 3
   },
   "file_extension": ".py",
   "mimetype": "text/x-python",
   "name": "python",
   "nbconvert_exporter": "python",
   "pygments_lexer": "ipython3",
   "version": "3.11.5"
  }
 },
 "nbformat": 4,
 "nbformat_minor": 2
}
