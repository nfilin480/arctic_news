{
 "cells": [
  {
   "cell_type": "code",
   "execution_count": 4,
   "metadata": {},
   "outputs": [],
   "source": [
    "from datasets import load_dataset"
   ]
  },
  {
   "cell_type": "code",
   "execution_count": 6,
   "metadata": {},
   "outputs": [
    {
     "name": "stderr",
     "output_type": "stream",
     "text": [
      "Downloading builder script: 100%|██████████| 2.98k/2.98k [00:00<00:00, 991kB/s]\n",
      "Downloading metadata: 100%|██████████| 3.87k/3.87k [00:00<00:00, 1.94MB/s]\n",
      "Downloading readme: 100%|██████████| 12.2k/12.2k [00:00<00:00, 4.06MB/s]\n",
      "No config specified, defaulting to: gazeta/default\n"
     ]
    },
    {
     "name": "stdout",
     "output_type": "stream",
     "text": [
      "Downloading and preparing dataset gazeta/default (download: 545.11 MiB, generated: 542.44 MiB, post-processed: Unknown size, total: 1.06 GiB) to C:/Users/sante/.cache/huggingface/datasets/IlyaGusev___gazeta/default/1.0.0/ef9349c3c0f3112ca4036520d76c4bc1b8a79d30bc29643c6cae5a094d44e457...\n"
     ]
    },
    {
     "name": "stderr",
     "output_type": "stream",
     "text": [
      "Downloading data: 100%|██████████| 471M/471M [00:40<00:00, 11.5MB/s]\n",
      "Downloading data: 100%|██████████| 48.6M/48.6M [00:04<00:00, 10.7MB/s]\n",
      "Downloading data: 100%|██████████| 52.1M/52.1M [00:04<00:00, 10.8MB/s]\n",
      "Downloading data files: 100%|██████████| 3/3 [00:55<00:00, 18.54s/it]\n",
      "Extracting data files: 100%|██████████| 3/3 [00:00<00:00, 120.07it/s]\n",
      "                                                                                         \r"
     ]
    },
    {
     "name": "stdout",
     "output_type": "stream",
     "text": [
      "Dataset gazeta downloaded and prepared to C:/Users/sante/.cache/huggingface/datasets/IlyaGusev___gazeta/default/1.0.0/ef9349c3c0f3112ca4036520d76c4bc1b8a79d30bc29643c6cae5a094d44e457. Subsequent calls will reuse this data.\n"
     ]
    },
    {
     "name": "stderr",
     "output_type": "stream",
     "text": [
      "100%|██████████| 3/3 [00:00<00:00, 26.11it/s]\n"
     ]
    }
   ],
   "source": [
    "gazeta_test = load_dataset('IlyaGusev/gazeta', revision=\"v1.0\")[\"test\"]"
   ]
  },
  {
   "cell_type": "code",
   "execution_count": 26,
   "metadata": {},
   "outputs": [],
   "source": [
    "import pandas as pd\n",
    "\n",
    "d = pd.DataFrame(data= gazeta_test[:500], columns=['text', 'summary', 'title'])\n",
    "\n",
    "d.to_csv('./datasets/gazeta500.csv')\n"
   ]
  },
  {
   "cell_type": "code",
   "execution_count": 28,
   "metadata": {},
   "outputs": [
    {
     "name": "stdout",
     "output_type": "stream",
     "text": [
      "Downloading and preparing dataset xlsum/russian to C:/Users/sante/.cache/huggingface/datasets/csebuetnlp___xlsum/russian/2.0.0/518ab0af76048660bcc2240ca6e8692a977c80e384ffb18fdddebaca6daebdce...\n"
     ]
    },
    {
     "name": "stderr",
     "output_type": "stream",
     "text": [
      "Downloading data: 100%|██████████| 105M/105M [00:09<00:00, 11.6MB/s] \n",
      "                                                                      \r"
     ]
    },
    {
     "name": "stdout",
     "output_type": "stream",
     "text": [
      "Dataset xlsum downloaded and prepared to C:/Users/sante/.cache/huggingface/datasets/csebuetnlp___xlsum/russian/2.0.0/518ab0af76048660bcc2240ca6e8692a977c80e384ffb18fdddebaca6daebdce. Subsequent calls will reuse this data.\n"
     ]
    },
    {
     "name": "stderr",
     "output_type": "stream",
     "text": [
      "100%|██████████| 3/3 [00:00<00:00, 11.51it/s]\n"
     ]
    }
   ],
   "source": [
    "xlsum = load_dataset('csebuetnlp/xlsum', name='russian')['test']"
   ]
  },
  {
   "cell_type": "code",
   "execution_count": 29,
   "metadata": {},
   "outputs": [],
   "source": [
    "d = pd.DataFrame(data= xlsum[:500], columns=['text', 'summary', 'title'])\n",
    "\n",
    "d.to_csv('./datasets/xlsum500.csv')"
   ]
  },
  {
   "cell_type": "code",
   "execution_count": null,
   "metadata": {},
   "outputs": [],
   "source": []
  }
 ],
 "metadata": {
  "kernelspec": {
   "display_name": "news_summ",
   "language": "python",
   "name": "python3"
  },
  "language_info": {
   "codemirror_mode": {
    "name": "ipython",
    "version": 3
   },
   "file_extension": ".py",
   "mimetype": "text/x-python",
   "name": "python",
   "nbconvert_exporter": "python",
   "pygments_lexer": "ipython3",
   "version": "3.10.11"
  }
 },
 "nbformat": 4,
 "nbformat_minor": 2
}
