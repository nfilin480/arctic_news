{
 "cells": [
  {
   "cell_type": "markdown",
   "metadata": {},
   "source": [
    "XLSUM\n"
   ]
  },
  {
   "cell_type": "code",
   "execution_count": null,
   "metadata": {},
   "outputs": [],
   "source": [
    "from datasets import load_dataset\n",
    "dataset = load_dataset('IlyaGusev/gazeta', revision='2.0') #csebuetnlp/xlsum  mlsum"
   ]
  }
 ],
 "metadata": {
  "language_info": {
   "name": "python"
  }
 },
 "nbformat": 4,
 "nbformat_minor": 2
}
